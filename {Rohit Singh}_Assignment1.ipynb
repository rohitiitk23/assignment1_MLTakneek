{
 "cells": [
  {
   "cell_type": "code",
   "execution_count": 6,
   "id": "dffe427a-0c84-49b1-bb1a-985033d23172",
   "metadata": {},
   "outputs": [],
   "source": [
    "import numpy as np\n",
    "import matplotlib.pyplot as plt"
   ]
  },
  {
   "cell_type": "code",
   "execution_count": null,
   "id": "fd480d68-3737-4cda-8ee5-ca7d3a7550f1",
   "metadata": {},
   "outputs": [],
   "source": [
    "#Task 1 : To generate 1000 random points between 0 and 100 \n",
    "num_points = 1000\n",
    "x_coordinates = np.random.randint(0, 101, size=num_points)\n",
    "y_coordinates = np.random.randint(0, 101, size=num_points)\n",
    "points_2d = np.column_stack((x_coordinates, y_coordinates))\n",
    "np.set_printoptions(threshold=np.inf)\n",
    "print(points_2d)"
   ]
  },
  {
   "cell_type": "code",
   "execution_count": null,
   "id": "0185b632-af5b-41c1-8753-421c8d8aa439",
   "metadata": {},
   "outputs": [],
   "source": [
    "''' Task 2. For r = {1, 2,...,10}, divide the points into grid as shown.\n",
    "• Show using matplotlib the various points using different colours.\n",
    "• Find pairs and store them in a list/set A '''\n",
    "def generate_random_points(num_points, dimensions, coord_range):\n",
    "    return np.random.uniform(low=0, high=coord_range, size=(num_points, dimensions))\n",
    "\n",
    "def divide_into_cells(points, grid_size):\n",
    "    cell_indices = (points // grid_size).astype(int)\n",
    "    return cell_indices\n",
    "\n",
    "def find_pairs_within_distance(points, distance_threshold):\n",
    "    num_points = len(points)\n",
    "    pairs = set()\n",
    "\n",
    "    for i in range(num_points):\n",
    "        for j in range(i + 1, num_points):\n",
    "            distance = np.linalg.norm(points[i] - points[j])\n",
    "            if distance < distance_threshold:\n",
    "                pairs.add((i, j))\n",
    "\n",
    "    return pairs\n",
    "\n",
    "def visualize_points_and_pairs(points, pairs, distance_threshold):\n",
    "    plt.scatter(points[:, 0], points[:, 1], label='Random Points' , alpha=0.5)\n",
    "\n",
    "    for pair in pairs:\n",
    "        plt.plot(points[pair, 0], points[pair, 1], 'r--' , alpha=0.3) # used r-- for dotted lines \n",
    "\n",
    "    plt.title(f'Random Points and Pairs within Distance {distance_threshold}')\n",
    "    plt.xlabel('X-axis')\n",
    "    plt.ylabel('Y-axis')\n",
    "    plt.show()\n",
    "\n",
    "points_2d = generate_random_points(num_points=1000, dimensions=2, coord_range=100)\n",
    "\n",
    "# Task 2: For r = {1, 2, ..., 10}, divide the points into a grid and find pairs\n",
    "results_2d = {}\n",
    "\n",
    "for r in range(1, 11):\n",
    "    # Divide points into cells based on the grid size\n",
    "    cell_indices = divide_into_cells(points_2d, grid_size=r)\n",
    "\n",
    "    # Find pairs within the specified distance threshold\n",
    "    pairs = find_pairs_within_distance(points_2d, distance_threshold=r)\n",
    "    results_2d[r] = pairs\n",
    "\n",
    "    # Visualize the points and pairs\n",
    "    visualize_points_and_pairs(points_2d, pairs, distance_threshold=r)\n"
   ]
  },
  {
   "cell_type": "code",
   "execution_count": 22,
   "id": "bc99fc67-f90c-4f97-b1e8-3d9ec32387b9",
   "metadata": {},
   "outputs": [],
   "source": [
    "# Task 3: For higher dimensions (d = 3, 4, 10, 50, 100) \n",
    "dimensions = [3, 4, 10, 50, 100]\n",
    "results_high_dim = {}\n",
    "\n",
    "for dim in dimensions:\n",
    "    points_high_dim = generate_random_points(1000, dim, 100)\n",
    "    results_dim = {}\n",
    "\n",
    "    for r in range(1, 11):\n",
    "        cell_indices = divide_into_cells(points_high_dim, r)\n",
    "        pairs = find_pairs_within_distance(points_high_dim, r)\n",
    "        results_dim[r] = pairs\n",
    "\n",
    "    results_high_dim[dim] = results_dim\n"
   ]
  }
 ],
 "metadata": {
  "kernelspec": {
   "display_name": "Python 3 (ipykernel)",
   "language": "python",
   "name": "python3"
  },
  "language_info": {
   "codemirror_mode": {
    "name": "ipython",
    "version": 3
   },
   "file_extension": ".py",
   "mimetype": "text/x-python",
   "name": "python",
   "nbconvert_exporter": "python",
   "pygments_lexer": "ipython3",
   "version": "3.12.0"
  }
 },
 "nbformat": 4,
 "nbformat_minor": 5
}
